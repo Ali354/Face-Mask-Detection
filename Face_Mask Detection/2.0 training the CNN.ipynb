{
 "cells": [
  {
   "cell_type": "code",
   "execution_count": 1,
   "metadata": {},
   "outputs": [],
   "source": [
    "import numpy as np\n",
    "\n",
    "data=np.load('data.npy')\n",
    "target=np.load('target.npy')\n",
    "\n",
    "#loading the save numpy arrays in the previous code"
   ]
  },
  {
   "cell_type": "code",
   "execution_count": 2,
   "metadata": {},
   "outputs": [],
   "source": [
    "from keras.models import Sequential\n",
    "from keras.layers import Dense,Activation,Flatten,Dropout\n",
    "from keras.layers import Conv2D,MaxPooling2D\n",
    "from keras.callbacks import ModelCheckpoint\n",
    "\n",
    "model=Sequential()\n",
    "\n",
    "model.add(Conv2D(200,(3,3),input_shape=data.shape[1:]))\n",
    "model.add(Activation('relu'))\n",
    "model.add(MaxPooling2D(pool_size=(2,2)))\n",
    "#The first CNN layer followed by Relu and MaxPooling layers\n",
    "\n",
    "model.add(Conv2D(100,(3,3)))\n",
    "model.add(Activation('relu'))\n",
    "model.add(MaxPooling2D(pool_size=(2,2)))\n",
    "#The second convolution layer followed by Relu and MaxPooling layers\n",
    "\n",
    "model.add(Flatten())\n",
    "model.add(Dropout(0.5))\n",
    "#Flatten layer to stack the output convolutions from second convolution layer\n",
    "model.add(Dense(50,activation='relu'))\n",
    "#Dense layer of 64 neurons\n",
    "model.add(Dense(2,activation='softmax'))\n",
    "#The Final layer with two outputs for two categories\n",
    "\n",
    "model.compile(loss='categorical_crossentropy',optimizer='adam',metrics=['accuracy'])"
   ]
  },
  {
   "cell_type": "code",
   "execution_count": 3,
   "metadata": {},
   "outputs": [],
   "source": [
    "from sklearn.model_selection import train_test_split\n",
    "\n",
    "train_data,test_data,train_target,test_target=train_test_split(data,target,test_size=0.1)"
   ]
  },
  {
   "cell_type": "code",
   "execution_count": 4,
   "metadata": {},
   "outputs": [
    {
     "name": "stdout",
     "output_type": "stream",
     "text": [
      "Epoch 1/20\n",
      "261/261 [==============================] - ETA: 0s - loss: 0.3286 - accuracy: 0.8466"
     ]
    },
    {
     "name": "stderr",
     "output_type": "stream",
     "text": [
      "WARNING:absl:Found untraced functions such as _jit_compiled_convolution_op, _jit_compiled_convolution_op, _update_step_xla while saving (showing 3 of 3). These functions will not be directly callable after loading.\n"
     ]
    },
    {
     "name": "stdout",
     "output_type": "stream",
     "text": [
      "INFO:tensorflow:Assets written to: model20a-001.model\\assets\n"
     ]
    },
    {
     "name": "stderr",
     "output_type": "stream",
     "text": [
      "INFO:tensorflow:Assets written to: model20a-001.model\\assets\n"
     ]
    },
    {
     "name": "stdout",
     "output_type": "stream",
     "text": [
      "261/261 [==============================] - 1274s 5s/step - loss: 0.3286 - accuracy: 0.8466 - val_loss: 0.1695 - val_accuracy: 0.9420\n",
      "Epoch 2/20\n",
      "261/261 [==============================] - ETA: 0s - loss: 0.1609 - accuracy: 0.9394"
     ]
    },
    {
     "name": "stderr",
     "output_type": "stream",
     "text": [
      "WARNING:absl:Found untraced functions such as _jit_compiled_convolution_op, _jit_compiled_convolution_op, _update_step_xla while saving (showing 3 of 3). These functions will not be directly callable after loading.\n"
     ]
    },
    {
     "name": "stdout",
     "output_type": "stream",
     "text": [
      "INFO:tensorflow:Assets written to: model20a-002.model\\assets\n"
     ]
    },
    {
     "name": "stderr",
     "output_type": "stream",
     "text": [
      "INFO:tensorflow:Assets written to: model20a-002.model\\assets\n"
     ]
    },
    {
     "name": "stdout",
     "output_type": "stream",
     "text": [
      "261/261 [==============================] - 1365s 5s/step - loss: 0.1609 - accuracy: 0.9394 - val_loss: 0.1301 - val_accuracy: 0.9487\n",
      "Epoch 3/20\n",
      "261/261 [==============================] - ETA: 0s - loss: 0.1168 - accuracy: 0.9542"
     ]
    },
    {
     "name": "stderr",
     "output_type": "stream",
     "text": [
      "WARNING:absl:Found untraced functions such as _jit_compiled_convolution_op, _jit_compiled_convolution_op, _update_step_xla while saving (showing 3 of 3). These functions will not be directly callable after loading.\n"
     ]
    },
    {
     "name": "stdout",
     "output_type": "stream",
     "text": [
      "INFO:tensorflow:Assets written to: model20a-003.model\\assets\n"
     ]
    },
    {
     "name": "stderr",
     "output_type": "stream",
     "text": [
      "INFO:tensorflow:Assets written to: model20a-003.model\\assets\n"
     ]
    },
    {
     "name": "stdout",
     "output_type": "stream",
     "text": [
      "261/261 [==============================] - 1174s 4s/step - loss: 0.1168 - accuracy: 0.9542 - val_loss: 0.1016 - val_accuracy: 0.9626\n",
      "Epoch 4/20\n",
      "261/261 [==============================] - 1253s 5s/step - loss: 0.0886 - accuracy: 0.9667 - val_loss: 0.1128 - val_accuracy: 0.9602\n",
      "Epoch 5/20\n",
      "261/261 [==============================] - ETA: 0s - loss: 0.0750 - accuracy: 0.9734"
     ]
    },
    {
     "name": "stderr",
     "output_type": "stream",
     "text": [
      "WARNING:absl:Found untraced functions such as _jit_compiled_convolution_op, _jit_compiled_convolution_op, _update_step_xla while saving (showing 3 of 3). These functions will not be directly callable after loading.\n"
     ]
    },
    {
     "name": "stdout",
     "output_type": "stream",
     "text": [
      "INFO:tensorflow:Assets written to: model20a-005.model\\assets\n"
     ]
    },
    {
     "name": "stderr",
     "output_type": "stream",
     "text": [
      "INFO:tensorflow:Assets written to: model20a-005.model\\assets\n"
     ]
    },
    {
     "name": "stdout",
     "output_type": "stream",
     "text": [
      "261/261 [==============================] - 1245s 5s/step - loss: 0.0750 - accuracy: 0.9734 - val_loss: 0.0989 - val_accuracy: 0.9640\n",
      "Epoch 6/20\n",
      "261/261 [==============================] - 1221s 5s/step - loss: 0.0587 - accuracy: 0.9787 - val_loss: 0.1199 - val_accuracy: 0.9573\n",
      "Epoch 7/20\n",
      "261/261 [==============================] - 1202s 5s/step - loss: 0.0443 - accuracy: 0.9848 - val_loss: 0.1171 - val_accuracy: 0.9640\n",
      "Epoch 8/20\n",
      "261/261 [==============================] - 1270s 5s/step - loss: 0.0352 - accuracy: 0.9874 - val_loss: 0.1400 - val_accuracy: 0.9559\n",
      "Epoch 9/20\n",
      "261/261 [==============================] - 1253s 5s/step - loss: 0.0311 - accuracy: 0.9897 - val_loss: 0.1066 - val_accuracy: 0.9669\n",
      "Epoch 10/20\n",
      "261/261 [==============================] - 1234s 5s/step - loss: 0.0276 - accuracy: 0.9917 - val_loss: 0.1051 - val_accuracy: 0.9707\n",
      "Epoch 11/20\n",
      "261/261 [==============================] - 1306s 5s/step - loss: 0.0235 - accuracy: 0.9912 - val_loss: 0.1243 - val_accuracy: 0.9635\n",
      "Epoch 12/20\n",
      "261/261 [==============================] - 1274s 5s/step - loss: 0.0232 - accuracy: 0.9908 - val_loss: 0.1365 - val_accuracy: 0.9645\n",
      "Epoch 13/20\n",
      "261/261 [==============================] - 1218s 5s/step - loss: 0.0164 - accuracy: 0.9940 - val_loss: 0.1902 - val_accuracy: 0.9635\n",
      "Epoch 14/20\n",
      "261/261 [==============================] - 3034s 12s/step - loss: 0.0207 - accuracy: 0.9929 - val_loss: 0.1353 - val_accuracy: 0.9664\n",
      "Epoch 15/20\n",
      "261/261 [==============================] - 1302s 5s/step - loss: 0.0227 - accuracy: 0.9921 - val_loss: 0.1390 - val_accuracy: 0.9669\n",
      "Epoch 16/20\n",
      "261/261 [==============================] - 1338s 5s/step - loss: 0.0175 - accuracy: 0.9934 - val_loss: 0.1408 - val_accuracy: 0.9645\n",
      "Epoch 17/20\n",
      "261/261 [==============================] - 1161s 4s/step - loss: 0.0129 - accuracy: 0.9958 - val_loss: 0.1443 - val_accuracy: 0.9698\n",
      "Epoch 18/20\n",
      "261/261 [==============================] - 12099s 47s/step - loss: 0.0165 - accuracy: 0.9944 - val_loss: 0.1575 - val_accuracy: 0.9626\n",
      "Epoch 19/20\n",
      "261/261 [==============================] - 1201s 5s/step - loss: 0.0131 - accuracy: 0.9957 - val_loss: 0.1384 - val_accuracy: 0.9712\n",
      "Epoch 20/20\n",
      "261/261 [==============================] - 1354s 5s/step - loss: 0.0150 - accuracy: 0.9942 - val_loss: 0.1443 - val_accuracy: 0.9679\n"
     ]
    }
   ],
   "source": [
    "checkpoint = ModelCheckpoint('model20a-{epoch:03d}.model',monitor='val_loss',verbose=0,save_best_only=True,mode='auto')\n",
    "history=model.fit(train_data,train_target,epochs=20,callbacks=[checkpoint],validation_split=0.2)\n"
   ]
  },
  {
   "cell_type": "code",
   "execution_count": 5,
   "metadata": {},
   "outputs": [],
   "source": [
    "model.save(\"my_h5_model.h5\")"
   ]
  },
  {
   "cell_type": "code",
   "execution_count": 7,
   "metadata": {},
   "outputs": [
    {
     "data": {
      "image/png": "[encoded data removed]",
      "text/plain": [
       "<Figure size 432x288 with 1 Axes>"
      ]
     },
     "metadata": {
      "needs_background": "light"
     },
     "output_type": "display_data"
    }
   ],
   "source": [
    "plt.plot(history.history['accuracy'],'r',label='training accuracy')\n",
    "plt.plot(history.history['val_accuracy'],label='validation accuracy')\n",
    "plt.xlabel('# epochs')\n",
    "plt.ylabel('loss')\n",
    "plt.legend()\n",
    "plt.show()"
   ]
  },
  {
   "cell_type": "code",
   "execution_count": 8,
   "metadata": {},
   "outputs": [
    {
     "name": "stdout",
     "output_type": "stream",
     "text": [
      "37/37 [==============================] - 60s 2s/step - loss: 0.0915 - accuracy: 0.9733\n",
      "[0.09145526587963104, 0.9732528328895569]\n"
     ]
    }
   ],
   "source": [
    "print(model.evaluate(test_data,test_target))"
   ]
  },
  {
   "cell_type": "code",
   "execution_count": null,
   "metadata": {},
   "outputs": [],
   "source": []
  }
 ],
 "metadata": {
  "kernelspec": {
   "display_name": "Python 3 (ipykernel)",
   "language": "python",
   "name": "python3"
  },
  "language_info": {
   "codemirror_mode": {
    "name": "ipython",
    "version": 3
   },
   "file_extension": ".py",
   "mimetype": "text/x-python",
   "name": "python",
   "nbconvert_exporter": "python",
   "pygments_lexer": "ipython3",
   "version": "3.9.7"
  }
 },
 "nbformat": 4,
 "nbformat_minor": 2
}
